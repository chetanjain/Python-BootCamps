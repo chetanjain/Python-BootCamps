{
 "cells": [
  {
   "cell_type": "code",
   "execution_count": 178,
   "metadata": {},
   "outputs": [],
   "source": [
    "def number_display():\n",
    "    value_display=[0,1,'|',2,'|',3,'--','','--','','--',4,'|',5,'|',6,'--','','--','','--',7,'|',8,'|',9]\n",
    "    for i in range(1,len(value_display)):\n",
    "        print(value_display[i],end=' ')\n",
    "        if(i%5==0):\n",
    "            print('\\n')"
   ]
  },
  {
   "cell_type": "code",
   "execution_count": 179,
   "metadata": {},
   "outputs": [],
   "source": [
    "value_display=['0','1','|','2','|','3','--','','--','','--','4','|','5','|','6','--','','--','','--','7','|','8','|','9']\n",
    "def number_display_game(user_input,user_sign):\n",
    "    value_display[value_display.index(user_input)] = user_sign\n",
    "\n",
    "def number_display_output():\n",
    "    for i in range(1,len(value_display)):\n",
    "        print(value_display[i],end=' ')\n",
    "        if(i%5==0):\n",
    "            print('\\n')\n",
    "def check_match():\n",
    "    if(value_display[1]==value_display[3]==value_display[5]):\n",
    "        return value_display[1]\n",
    "    elif(value_display[11]==value_display[13]==value_display[15]):\n",
    "        return value_display[11]\n",
    "    elif(value_display[21]==value_display[23]==value_display[25]):\n",
    "        return value_display[21]\n",
    "    elif(value_display[1]==value_display[11]==value_display[21]):\n",
    "        return value_display[1]\n",
    "    elif(value_display[3]==value_display[13]==value_display[23]):\n",
    "        return value_display[3]\n",
    "    elif(value_display[5]==value_display[15]==value_display[25]):\n",
    "        return value_display[5]\n",
    "    elif(value_display[1]==value_display[13]==value_display[25]):\n",
    "        return value_display[1]\n",
    "    elif(value_display[5]==value_display[13]==value_display[21]):\n",
    "        return value_display[5]\n",
    "    else:\n",
    "        return ''"
   ]
  },
  {
   "cell_type": "code",
   "execution_count": 180,
   "metadata": {},
   "outputs": [],
   "source": [
    "from IPython.display import clear_output\n",
    "check_output_val=''\n",
    "def game_input(first_user,first_user_sign,second_user,second_user_sign):\n",
    "    for i in range(1,10,2):\n",
    "        print(f\"{first_user}, Please enter {i} number\")\n",
    "        first_user_input = input().strip()\n",
    "        number_display_game(first_user_input,first_user_sign)\n",
    "        clear_output(wait=True)\n",
    "        number_display_output()\n",
    "        check_output_val = check_match()\n",
    "        if(check_output_val!=''):\n",
    "            return check_output_val,first_user\n",
    "        if(i!=9):\n",
    "            print(f\"{second_user}, Please enter {i+1} number\")\n",
    "            second_user_input = input().strip()\n",
    "            number_display_game(second_user_input,second_user_sign)\n",
    "            clear_output(wait=True)\n",
    "            number_display_output()\n",
    "            check_output_val = check_match()\n",
    "            if(check_output_val!=''):\n",
    "                return check_output_val,second_user\n",
    "\n",
    "        if(i==9):\n",
    "            print('Match drawn')\n",
    "            return 'draw'"
   ]
  },
  {
   "cell_type": "code",
   "execution_count": 181,
   "metadata": {},
   "outputs": [
    {
     "name": "stdout",
     "output_type": "stream",
     "text": [
      "Thanks, see you soon\n"
     ]
    }
   ],
   "source": [
    "inp = True\n",
    "while inp:\n",
    "    print('Type ok to continue or exit to exit the game')\n",
    "    cont = input()\n",
    "    \n",
    "    if(cont.lower()=='ok'):\n",
    "        \n",
    "        print(\"Hi Team, Let's Play Tic Tac Toe Game\")\n",
    "        print(\"Use numbers [1-9] for your input\")\n",
    "        number_display()\n",
    "        \n",
    "        print(\"Enter First user name\")\n",
    "        first_user = input()\n",
    "        print(\"Enter First user sign\")\n",
    "        first_user_sign = str(input().strip())\n",
    "        \n",
    "        print(\"Enter Second user name\")\n",
    "        second_user = input()\n",
    "        if(first_user_sign.lower()=='x'):\n",
    "            second_user_sign='o'\n",
    "        else:\n",
    "            second_user_sign='x'\n",
    "            \n",
    "        print(f\"Hi {first_user} your sign is {first_user_sign} and {second_user} your sign is {second_user_sign}\")\n",
    "        \n",
    "        output,user = game_input(first_user,first_user_sign,second_user,second_user_sign)\n",
    "        if(output=='x'):\n",
    "            print(f'{user} wins')\n",
    "        elif(output=='o'):\n",
    "            print(f'{user} wins')\n",
    "            \n",
    "    elif(cont.lower()=='exit'):\n",
    "        clear_output(wait=True)\n",
    "        print('Thanks, see you soon')\n",
    "        inp=False\n",
    "        break\n",
    "    else:\n",
    "        print('\\nPlease type ok or exit \\n')    "
   ]
  },
  {
   "cell_type": "code",
   "execution_count": null,
   "metadata": {},
   "outputs": [],
   "source": []
  }
 ],
 "metadata": {
  "kernelspec": {
   "display_name": "Python 3",
   "language": "python",
   "name": "python3"
  },
  "language_info": {
   "codemirror_mode": {
    "name": "ipython",
    "version": 3
   },
   "file_extension": ".py",
   "mimetype": "text/x-python",
   "name": "python",
   "nbconvert_exporter": "python",
   "pygments_lexer": "ipython3",
   "version": "3.7.9"
  }
 },
 "nbformat": 4,
 "nbformat_minor": 4
}
